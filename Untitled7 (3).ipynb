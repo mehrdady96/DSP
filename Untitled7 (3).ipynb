{
  "nbformat": 4,
  "nbformat_minor": 0,
  "metadata": {
    "colab": {
      "provenance": []
    },
    "kernelspec": {
      "name": "python3",
      "display_name": "Python 3"
    },
    "language_info": {
      "name": "python"
    }
  },
  "cells": [
    {
      "cell_type": "code",
      "execution_count": null,
      "metadata": {
        "id": "YtJDFWi44WJ3"
      },
      "outputs": [],
      "source": []
    },
    {
      "cell_type": "markdown",
      "source": [
        "تحلیل فوریه سیگنال با استفاده از تبدیل فوریه گسسته   ص 792\n",
        "\n",
        "10.0 مقدمه\n",
        "در فصل 8، تبدیل فوریه گسسته (DFT) را به عنوان نمایش فوریه سیگنال های با طول محدود توسعه دادیم. از آنجا که DFT می تواند به طور موثر محاسبه شود، نقش اصلی را در طیف گسترده ای از برنامه های پردازش سیگنال، از جمله فیلتر کردن و تجزیه و تحلیل طیف ایفا می کند. در این فصل، نگاهی مقدماتی به تحلیل فوریه سیگنال ها با استفاده از DFT می اندازیم.\n",
        "در برنامه‌ها و الگوریتم‌های مبتنی بر ارزیابی صریح تبدیل فوریه، در حالت ایده‌آل تبدیل فوریه گسسته زمان (DTFT) مورد نظر است، اگرچه این DFT است که می‌تواند واقعاً محاسبه شود. برای سیگنال‌های با طول محدود، DFT نمونه‌های دامنه فرکانس DTFT را ارائه می‌کند و پیامدهای این نمونه‌برداری باید به وضوح درک و در نظر گرفته شود.\n",
        "به عنوان مثال، همانطور که در بخش 8.7 در نظر گرفته شد، در فیلتر کردن خطی یا کانولوشن که با ضرب DFTها به جای DTFTها اجرا می شود، یک کانولوشن دایره ای اجرا می شود، و باید دقت ویژه ای برای اطمینان از اینکه نتایج معادل یک انحراف خطی هستند، انجام شود.\n",
        "علاوه بر این، در بسیاری از کاربردهای فیلترینگ و تحلیل طیف، سیگنال ها ذاتا طول محدودی ندارند. همانطور که بحث خواهیم کرد، این ناسازگاری بین نیاز طول محدود DFT و واقعیت سیگنال‌های طولانی مدت نامحدود را می‌توان دقیقاً یا تقریباً از طریق مفاهیم پنجره‌سازی، پردازش بلوک و تبدیل فوریه وابسته به زمان در نظر گرفت.\n",
        "\n",
        "\n",
        "\n",
        "\n",
        "\n",
        "\n",
        "10.1 تجزیه و تحلیل فوریه سیگنال ها با استفاده از DFT\n",
        "یکی از کاربردهای عمده DFT در تجزیه و تحلیل محتوای فرکانس سیگنال های زمان پیوسته است. برای مثال، همانطور که در بخش 10.4.1 توضیح دادیم، در تجزیه و تحلیل و پردازش گفتار، تجزیه و تحلیل فرکانس به ویژه در شناسایی و مدل‌سازی رزونانس‌های حفره صوتی مفید است. مثال دیگری که در بخش 10.4.2 معرفی شد، رادار داپلر است که در آن سرعت یک هدف با تغییر فرکانس بین سیگنال های ارسالی و دریافتی نشان داده می شود. مراحل اساسی در اعمال DFT به سیگنال های زمان پیوسته در شکل 10.1 نشان داده شده است.\n",
        "فیلتر antialiasing برای حذف یا به حداقل رساندن اثر aliasing در زمانی که سیگنال زمان پیوسته با نمونه برداری به یک دنباله تبدیل می شود، تعبیه شده است. نیاز به ضرب x[n] در w[n]، یعنی پنجره‌بندی، نتیجه نیاز طول محدود DFT است. در بسیاری از موارد مورد علاقه عملی، $s_{c}(t)$ و در نتیجه، x[n] سیگنال های بسیار طولانی یا حتی نامحدود طولانی هستند (مانند سخنرانی یا موسیقی). بنابراین، یک پنجره با مدت زمان محدود w[n] قبل از محاسبه DFT به x[n] اعمال می شود. شکل 10.2 تبدیل فوریه سیگنال ها را در شکل 10.1 نشان می دهد. شکل 10.2 (الف) یک طیف زمان پیوسته را نشان می‌دهد که در فرکانس‌های بالا کاهش می‌یابد اما باند محدود نیست. همچنین نشان دهنده وجود مقداری انرژی سیگنال باند باریک است که توسط قله های باریک نشان داده می شود. پاسخ فرکانسی یک فیلتر ضد آلیازینگ در شکل 10.2 (b) نشان داده شده است. همانطور که در شکل 10.2 (c) نشان داده شده است، تبدیل فوریه زمان پیوسته X، (fil) حاوی اطلاعات مفید کمی در مورد Se(j C2) برای فرکانس های بالاتر از فرکانس قطع فیلتر است. از آنجایی که $H_{aa}(jf2)$ نمی تواند ایده آل باشد، اجزای فوریه ورودی در باند عبور و باند انتقال نیز توسط پاسخ فرکانسی فیلتر اصلاح می شوند.\n",
        "تبدیل Xc(t) به دنباله نمونه X[n] در فرکانس dmain با تکرار دوره ای، نرمال سازی فرکانس و مقیاس بندی دامنه نشان داده می شود.\n",
        "10.1\n",
        "\\begin{equation}\n",
        "X(e^{jw})=1/T\\sum_{\\infty }^{\\infty }X_{c}(j\\frac{\\omega}{T}+j\\frac{2\\Pi\\ r}{T})\n",
        "\\end{equation}\n",
        "این در شکل 10.2 (d) نشان داده شده است. در یک پیاده سازی عملی، فیلتر ضد آلیازینگ نمی تواند تضعیف بی نهایت در باند توقف داشته باشد. بنابراین، مقداری همپوشانی غیر صفر عبارات در معادله. (10.1)، یعنی نام مستعار، می توان انتظار داشت. با این حال، این منبع خطا را می توان با یک فیلتر زمان پیوسته با کیفیت بالا یا از طریق استفاده از نمونه برداری بیش از حد اولیه و به دنبال آن فیلتر پایین گذر زمان گسسته موثرتر و حذف آن، همانطور که در بخش 4.8.1 مورد بحث قرار گرفت، به طرز چشمگیری کوچک کرد. اگر x[n] یک سیگنال دیجیتال باشد، به طوری که تبدیل A/D در سیستم دوم در شکل 10.1 گنجانده شده است، خطای کوانتیزاسیون نیز معرفی می شود. همانطور که در بخش 4.8.2 دیدیم، این خطا را می توان به صورت یک مدل سازی کرد\n",
        "(graph figures)"
      ],
      "metadata": {
        "id": "oo4KqFP3-X7X"
      }
    },
    {
      "cell_type": "code",
      "source": [
        "import numpy as np\n",
        "import matplotlib.pyplot as plt\n",
        "\n",
        "Omega = np.linspace(-10, 10, 1000)\n",
        "\n",
        "\n",
        "Omega_0 = 3\n",
        "\n",
        "S_x = 0.5 * np.exp(-((Omega - Omega_0) ** 2)) + 0.5 * np.exp(-((Omega + Omega_0) ** 2)) + 0.2 / (1 + Omega**2)\n",
        "\n",
        "\n",
        "flat_region = (np.abs(Omega) < Omega_0 * 0.8)\n",
        "S_x[flat_region] = np.max(S_x[flat_region]) * 0.9\n",
        "\n",
        "\n",
        "plt.figure(figsize=(6,3))\n",
        "plt.plot(Omega, S_x, 'k', linewidth=2)\n",
        "plt.axhline(0, color='black', linewidth=0.5)\n",
        "plt.axvline(0, color='black', linewidth=0.5)\n",
        "plt.xticks([-Omega_0, 0, Omega_0], [r'$-\\Omega_0$', '0', r'$\\Omega_0$'])\n",
        "plt.yticks([])\n",
        "plt.xlabel(r'$\\Omega$')\n",
        "plt.ylabel(r'$S_x(j\\Omega)$')\n",
        "plt.title(\"Frequency Spectrum with Flatter Region\")\n",
        "\n",
        "plt.show()\n"
      ],
      "metadata": {
        "colab": {
          "base_uri": "https://localhost:8080/",
          "height": 336
        },
        "id": "S-LW3aUp25q1",
        "outputId": "a40818ae-f939-46e7-bdb1-8add4ca214df"
      },
      "execution_count": 10,
      "outputs": [
        {
          "output_type": "display_data",
          "data": {
            "text/plain": [
              "<Figure size 600x300 with 1 Axes>"
            ],
            "image/png": "[encoded data removed]"
          },
          "metadata": {}
        }
      ]
    },
    {
      "cell_type": "markdown",
      "source": [
        "\n",
        "توالی نویز به x[a] اضافه شده است.\n",
        "نویز را می توان با استفاده از کوانتیزاسیون ریزدانه ناچیز ساخت.\n",
        "دنباله x[a] معمولاً در پنجره مدت محدود w[n] ضرب می شود. از آنجایی که ورودی DFT باید مدت زمان محدودی داشته باشد. این دنباله با طول محدود v[n]=w[n]x[n] را تولید می کند. اثر در حوزه فرکانس پیچیدگی دوره ای است، به عنوان مثال،\n",
        "10.2\n",
        "\n",
        "\\begin{equation}\n",
        "V(e^{jw})=\\frac{1}{2\\Pi}\\int_{-\\Pi}^{\\Pi}X(e^{jw})W(e^{j(w-\\Theta)})d\\Theta\n",
        "\\end{equation}\n",
        "شکل 10.2(e) تبدیل فوریه یک دنباله پنجره معمولی را نشان می دهد. توجه داشته باشید که لوب اصلی در اطراف = 0 در نظر گرفته می‌شود و در این تصویر، لوب‌های کناری بسیار کوچک هستند، که نشان می‌دهد پنجره در لبه‌های آن باریک می‌شود. ویژگی های پنجره هایی مانند پنجره های بارتلت، همینگ، هانینگ، بلکمن و قیصر در فصل 7 و در بخش 10.2 مورد بحث قرار گرفته است. در این مرحله، مشاهده این نکته کافی است که پیچش W (e^jw) با X (e^j) تمایل به صاف کردن قله‌های تیز و ناپیوستگی در X (ej) دارد. این با منحنی پیوسته ترسیم شده در شکل 10.2 (f) نشان داده شده است.\n",
        "عملیات نهایی در شکل 10.1 محاسبه DFT است. DFT دنباله پنجره‌دار v[n] = w[n]x[n] است\n",
        "10.3\n",
        "\\begin{equation}\n",
        "V[k]=\\sum_{n=0}^{N-1}v[n]e^{-j(2\\pi/N)kn} ,k=0,1,...,N-1\n",
        "\\end{equation}\n",
        "در جایی که فرض می کنیم طول پنجره L کمتر یا مساوی طول DFT N است. V[k]، DFT دنباله با طول محدود v[n]، مربوط به نمونه های با فاصله مساوی از DFT از v[n] است، به عنوان مثال،\n",
        "10.4\n",
        "\\begin{equation}\n",
        "V[k]=V((e^{jw})|_{w=2\\pi k/N}\n",
        "\\end{equation}\n",
        "شکل 10.2(f) نیز V[k] را به عنوان نمونه‌های $V(e^{jW})$ نشان می‌دهد. از آنجایی که فاصله بین فرکانس DFT $2\\pi/N$ است و رابطه بین متغیر فرکانس زمان گسسته نرمال شده و متغیر فرکانس زمان پیوسته $\\omega=\\Omega T$ است، DFT با فرکانس‌های زمان تناظر دارد\n",
        "10.5\n",
        "\\begin{equation}\n",
        "\\Omega_{k}=\\frac{2\\pi k}{NT}\n",
        "\\end{equation}\n",
        "استفاده از این رابطه بین فرکانس های زمان پیوسته با مثال 10.1 و 10.2 نشان داده شده است.\n",
        "مثال 10.1\n",
        "یک سیگنال زمان پیوسته باند محدود x_{c} را در نظر بگیرید که $X_{c}(j\\Omega)=0$ برای  $|\\Omega|\\geqslant 2\\pi (2500)$. ما می خواهیم از سیستم شکل 10.1 برای تخمین طیف زمان پیوسته $X_{c} (j\\Omega)$ استفاده کنیم. فرض کنید فیلتر ضد آلیاسینگ $H_{aa} (j\\Omega)$ ایده آل است و نرخ نمونه برداری برای مبدل C/D 1/T = 5000 نمونه بر ثانیه است. اگر بخواهیم نمونه‌های DFT V[k] معادل نمونه‌های $X_{c}(j\\Omega)$ باشد که حداکثر 2\\pi (10) راد بر ثانیه یا 10 هرتز از هم فاصله دارند، حداقل مقداری که باید برای اندازه DFT N استفاده کنیم چقدر است؟\n",
        "از معادله (10.5)، می بینیم که نمونه های مجاور در DFT با فرکانس های زمان پیوسته جدا شده با 2$\\pi /(NT)$ مطابقت دارند. بنابراین، ما آن را ایجاب می کنیم\n",
        "$\\frac{2\\pi }{NT}\\leqslant 20\\pi$\n",
        "که به این معنی است که $N\\ge t500$\n",
        "شرایط را برآورده می کند.\n",
        "اگر بخواهیم از الگوریتم radix-2 FFT برای محاسبه DFT در شکل 10.1 استفاده کنیم، باید N=512 را برای فاصله فرکانس زمان پیوسته معادل $\\Delta \\Omega=2\\pi (5000/512)=2\\pi (9.77)$ راد در ثانیه انتخاب کنیم.\n",
        "\n",
        "مثال 0.21\n",
        "مشکل در مثال 10.1 را در نظر بگیرید، که در آن 1/T=500، N=512، و $x_{c}$ دارای ارزش واقعی است و به اندازه کافی باند محدود است تا از نام مستعار با نرخ نمونه‌گیری داده شده اجتناب شود.\n",
        "با اشاره به خصوصیات تقارن DFT ارائه شده در جدول 8.2، $V[k]=V*[((-k))_{N}]$،k=0،1،...،N-1، و در نتیجه، V[N-k]=V*[k]. بنابراین در این مورد چنین است که\n",
        "V[512-11]= V[501]=V*[11]=2000(1-j)\n",
        "همچنین می دانیم که نمونه DFT k=11 با فرکانس زمان پیوسته $\\Omega _{11}=2\\pi (11)(500)/512=2\\pi (107.4)$ و به سادگی k=501 با فرکانس -$2\\pi (11)(500)/512= -2\\pi (107.4)$ مطابقت دارد. اگرچه پنجره‌سازی طیف را هموار می‌کند، می‌توان گفت $X_{c}(j\\Omega _{11})= X_{c}(j2\\pi (107.4)) \\approx T.V[11]=0.4(1+j)$\n",
        "توجه داشته باشید که عامل T برای ترکیب ضریب 1/T که با نمونه گیری معرفی شده است، لازم است، مانند معادله (10.1). می‌توانیم دوباره از تقارن بهره‌برداری کنیم تا $X_{c}(-j\\Omega _{11})= X_{c}(-j2\\pi (107.4)) \\approx T.V[11]=0.4(1-j)$\n",
        "\n",
        "بسیاری از تحلیلگرهای طیف بیدرنگ تجاری مبتنی بر اصولی هستند که در شکل های 10.1 و 10.2 بیان شده است. با این حال، باید از بحث قبلی روشن شود که عوامل متعددی بر تفسیر DFT یک بخش پنجره‌دار سیگنال نمونه‌برداری شده بر حسب تبدیل فوریه زمان پیوسته se(t) ورودی اصلی تأثیر می‌گذارند. برای تطبیق و کاهش اثرات این عوامل، باید در فیلتر کردن و نمونه برداری از سیگنال ورودی دقت شود. علاوه بر این، برای تفسیر صحیح نتایج، باید اثرات پنجره‌بندی حوزه زمان و نمونه‌برداری حوزه فرکانس ذاتی در DFT به وضوح درک شود. برای بقیه بحث، ما فرض می کنیم که مسائل فیلتر ضد آلیاسینگ و تبدیل پیوسته به زمان گسسته به طور رضایت بخشی انجام شده است و قابل چشم پوشی است. در بخش بعدی، ما به طور خاص بر روی اثرات پنجره‌سازی و نمونه‌برداری دامنه فرکانس تحمیلی توسط DFT تمرکز می‌کنیم. ما سیگنال های سینوسی را به عنوان کلاس خاصی از مثال ها برای بحث انتخاب می کنیم، زیرا سینوسی ها کاملاً باند محدود هستند و به راحتی محاسبه می شوند. با این حال، بیشتر مسائل مطرح شده توسط مثال ها به طور کلی تری اعمال می شود.\n",
        "10.2 تجزیه و تحلیل DFT سیگنال های سینوسی\n",
        "10.2 تجزیه و تحلیل DFT سیگنال های سینوسی DTFT یک سیگنال سینوسی $A cos(w_{0}n +\\phi )$(موجود برای همه n) یک جفت تکانه در $+w_{0}$ و $-w_{0}$ است (تکرار دوره ای با دوره $2\\pi$). در تجزیه و تحلیل سیگنال‌های سینوسی با استفاده از DFT، نمونه‌برداری پنجره‌ای و طیفی (حوزه فرکانس) تأثیرات مهمی دارد. همانطور که در بخش 10.2.1 خواهیم دید، پنجره سازی تکانه های نمایش فوریه را لکه دار یا گسترده می کند، بنابراین، فرکانس دقیق کمتر تعریف شده است. پنجره سازی همچنین توانایی تشخیص سیگنال های سینوسی که از نظر فرکانس نزدیک به هم هستند را کاهش می دهد. نمونه برداری طیفی ذاتی در DFT به طور بالقوه یک تصویر اشتباه یا نادرست از طیف واقعی سیگنال سینوسی ارائه می دهد. این اثر در بخش 10.2.3 مورد بحث قرار گرفته است.\n",
        "10.2.1 سیم پیچ اثر\n",
        "یک زمان پیوسته را در نظر بگیرید که از مجموع دو جزء سینوسی تشکیل شده است، یعنی:\n",
        "10.6\n",
        "\\begin{equation}\n",
        "s_{c}(t)=A_{0}cos(\\Omega _{0}t + \\theta _{0})+A_{1}cos(\\Omega _{1}t + \\theta _{1}) ,-\\infty \\lt t\\lt \\infty\n",
        "\\end{equation}\n",
        "با فرض نمونه‌برداری ایده‌آل بدون الایاسینگ و بدون خطای کوانتیزاسیون، سیگنال زمان گسسته را به دست می‌آوریم.\n",
        "10.7\n",
        "\\begin{equation}\n",
        "x[n]=A_{0}cos(w _{0}t + \\theta _{0})+A_{1}cos(w _{1}t + \\theta _{1}) ,-\\infty \\lt n \\lt \\infty\n",
        "\\end{equation}\n",
        "جایی که $w_{0}=\\Omega _{0}T$ و $w_{1}=\\Omega _{1}T$. دنباله پنجره‌دار v[n] در شکل 10.1 است\n",
        "10.8\n",
        "\\begin{equation}\n",
        "v[n]=A_{0}cos(w _{0}t + \\theta _{0})+A_{1}cos(w _{1}t + \\theta _{1})\n",
        "\\end{equation}\n",
        "برای به دست آوردن DTFT v[n]. معادله (10.8) را از نظر نمایی مختلط بسط می دهیم و از خاصیت تغییر فرکانس معادله (2.158) در بخش 2.9.2 استفاده می کنیم. به طور خاص، w v[n] را بازنویسی کنید\n",
        "10.9\n",
        "\\begin{equation}\n",
        "v[n]=\\frac{A_{0}}{2}w[n]e^{j\\theta _{0}}e^{jw_{0}n}+\\frac{A_{0}}{2}w[n]e^{-j\\theta _{0}}e^{-jw_{0}n}+\n",
        "\\frac{A_{1}}{2}w[n]e^{j\\theta _{1}}e^{jw_{1}n}+\\frac{A_{1}}{2}w[n]e^{-j\\theta _{1}}e^{-jw_{1}n}\n",
        "\\end{equation}\n",
        "که از آن، با معادله (2.158)، نتیجه می شود که تبدیل فوریه دنباله پنجره شده است\n",
        "10.10\n",
        "\\begin{equation}\n",
        "V(e^{jw})=\\frac{A_{0}}{2}e^{j\\theta _{0}}We^{j(w-w_{0}n)}+\\frac{A_{0}}{2}e^{-j\\theta _{0}}We^{j(w+w_{0}n)}+\n",
        "\\frac{A_{1}}{2}e^{j\\theta _{1}}We^{j(w-w_{1}n)}+\\frac{A_{1}}{2}e^{-j\\theta _{1}}We^{j(w+w_{1}n)}\n",
        "\\end{equation}\n",
        "مطابق معادله (10.10)، تبدیل فوریه سیگنال پنجره ای از تبدیل فوریه پنجره تشکیل شده است. به فرکانس‌های $\\pm w_{0}$ و $\\pm w_{1}$ منتقل می‌شود و در صورت نمایی مختلط منفرد که سیگنال را تشکیل می‌دهند، با دامنه‌های مختلط مقیاس می‌شوند.\n",
        "\n",
        "مثال 10.3 اثر سیم پیچ بر تحلیل فویر سیگنال های سینوسی\n"
      ],
      "metadata": {
        "id": "U4RFYaEx7Lps"
      }
    }
  ]
}